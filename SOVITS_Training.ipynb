{
  "nbformat": 4,
  "nbformat_minor": 0,
  "metadata": {
    "colab": {
      "provenance": [],
      "gpuType": "T4",
      "include_colab_link": true
    },
    "kernelspec": {
      "name": "python3",
      "display_name": "Python 3"
    },
    "language_info": {
      "name": "python"
    },
    "accelerator": "GPU"
  },
  "cells": [
    {
      "cell_type": "markdown",
      "metadata": {
        "id": "view-in-github",
        "colab_type": "text"
      },
      "source": [
        "<a href=\"https://colab.research.google.com/github/thisismyracle/py-sovits-song-cover/blob/main/SOVITS_Training.ipynb\" target=\"_parent\"><img src=\"https://colab.research.google.com/assets/colab-badge.svg\" alt=\"Open In Colab\"/></a>"
      ]
    },
    {
      "cell_type": "code",
      "execution_count": null,
      "metadata": {
        "id": "eHIzlOjd3MJY"
      },
      "outputs": [],
      "source": [
        "#@title 0. Install dependencies\n",
        "\n",
        "!nvidia-smi\n",
        "\n",
        "!pip install yt_dlp\n",
        "!pip install ffmpeg\n",
        "!python3 -m pip install -U demucs\n",
        "!python -m pip install -U pip wheel\n",
        "!pip install pydub\n",
        "%pip install -U so-vits-svc-fork\n",
        "%pip install -U ipython"
      ]
    },
    {
      "cell_type": "code",
      "source": [
        "#@title 1. Mount to Google Drive\n",
        "\n",
        "from google.colab import drive\n",
        "drive.mount('/content/drive')"
      ],
      "metadata": {
        "id": "IhOmB7OK3gQQ"
      },
      "execution_count": null,
      "outputs": []
    },
    {
      "cell_type": "code",
      "source": [
        "#@title 2. Initialize\n",
        "\n",
        "def str_escape_space(text: str):\n",
        "    return '_'.join(text.split())\n",
        "\n",
        "BASE_PATH = 'content'\n",
        "YOUTUBE_AUDIO_PATH = 'audio'\n",
        "SOVITS_MODEL_PATH = '/content/drive/MyDrive/so-vits-svc-fork'\n",
        "\n",
        "try:\n",
        "    !mkdir -p {YOUTUBE_AUDIO_PATH}\n",
        "    !mkdir -p {SOVITS_MODEL_PATH}\n",
        "    !mkdir -p drive/MyDrive/so-vits-svc-fork\n",
        "    print('OK')\n",
        "except Exception as e:\n",
        "    print(e)\n"
      ],
      "metadata": {
        "id": "DAu3EPrG3mkI"
      },
      "execution_count": null,
      "outputs": []
    },
    {
      "cell_type": "code",
      "source": [
        "#@title 3a. Download Youtube WAV (voice lines)\n",
        "\n",
        "from __future__ import unicode_literals\n",
        "import yt_dlp\n",
        "import ffmpeg\n",
        "import sys\n",
        "\n",
        "voice_name = 'fischl' #@param {type: 'string'}\n",
        "voice_name = str_escape_space(voice_title)\n",
        "url = 'https://www.youtube.com/watch?v=XPJ9Dt7mV5w&t=12s&ab_channel=Trashy-Kun' #@param {type:'string'}\n",
        "\n",
        "ydl_options = {\n",
        "    'format': 'bestaudio/best',\n",
        "    'postprocessors': [\n",
        "        {\n",
        "            'key': 'FFmpegExtractAudio',\n",
        "            'preferredcodec': 'wav'\n",
        "        }\n",
        "    ],\n",
        "    'outtmpl': f'{YOUTUBE_AUDIO_PATH}/{voice_name}'\n",
        "}\n",
        "\n",
        "voice_path = ''\n",
        "\n",
        "try:\n",
        "    ydl = yt_dlp.YoutubeDL(ydl_options)\n",
        "    ydl.download([url])\n",
        "    voice_path = f'{YOUTUBE_AUDIO_PATH}/{voice_name}.wav'\n",
        "    \n",
        "    print('OK')\n",
        "except Exception as e:\n",
        "    print(e)\n"
      ],
      "metadata": {
        "id": "6u9gZFaV3yGG"
      },
      "execution_count": null,
      "outputs": []
    },
    {
      "cell_type": "code",
      "source": [
        "#@title 3b. Locate your own voice recording\n",
        "\n",
        "voice_name = 'myracle' #@param {type: 'string'}\n",
        "voice_name = str_escape_space(voice_name)\n",
        "voice_path  = '/content/audio/myracle.wav' #@param {type: 'string'}"
      ],
      "metadata": {
        "id": "U6aLmDak4iNy"
      },
      "execution_count": null,
      "outputs": []
    },
    {
      "cell_type": "code",
      "source": [
        "#@title 4. Cleanse voice noises\n",
        "\n",
        "import subprocess\n",
        "\n",
        "command = f'demucs --two-stems=vocals {voice_path}'\n",
        "result = subprocess.run(command.split(), stdout=subprocess.PIPE)\n",
        "\n",
        "print(result.stdout.decode())"
      ],
      "metadata": {
        "id": "7KVgzEG_5kJY"
      },
      "execution_count": null,
      "outputs": []
    },
    {
      "cell_type": "code",
      "source": [
        "#@title 5. Split the voice into pieces\n",
        "\n",
        "dataset_path = f'dataset_raw/{voice_name}'\n",
        "\n",
        "!mkdir -p {dataset_path}\n",
        "\n",
        "from datetime import datetime, timedelta\n",
        "from scipy.io import wavfile\n",
        "from tqdm import tqdm\n",
        "import argparse\n",
        "import json\n",
        "import numpy as np\n",
        "import os\n",
        "\n",
        "def get_time(sec):\n",
        "    if sec < 0:\n",
        "        return 0\n",
        "    else:\n",
        "        sec = timedelta(seconds=float(sec))\n",
        "        d = datetime(1, 1, 1) + sec\n",
        "\n",
        "        h_str = str(d.hour).zfill(2)\n",
        "        m_str = str(d.minute).zfill(2)\n",
        "        s_str = str(d.second).zfill(2)\n",
        "\n",
        "        return f'{h_str}:{m_str}:{s_str}.001'\n",
        "\n",
        "def get_total_time(sec):\n",
        "    sec = timedelta(seconds=float(sec))\n",
        "    d = datetime(1, 1, 1) + sec\n",
        "    delta = f'{str(d.hour)}:{str(d.minute)}:{str(d.second)}'\n",
        "\n",
        "    return delta\n",
        "\n",
        "def get_windows(signal, window_size, step_size):\n",
        "    signal_len = len(signal)\n",
        "    for i_start in range(0, signal_len, step_size):\n",
        "        i_end = i_start + window_size\n",
        "\n",
        "        if i_end >= signal_len:\n",
        "            break\n",
        "        \n",
        "        yield signal[i_start:i_end]\n",
        "\n",
        "def get_energy(samples):\n",
        "    return np.sum(np.power(samples, 2.)) / float(len(samples))\n",
        "\n",
        "def get_rising_edges(binary_signal):\n",
        "    prev = 0\n",
        "    index = 0\n",
        "\n",
        "    for x in binary_signal:\n",
        "        if x and not prev:\n",
        "            yield index\n",
        "        \n",
        "        prev = x\n",
        "        index += 1\n",
        "\n",
        "\n",
        "\n",
        "input_path = f'/content/separated/htdemucs/{voice_name}/vocals.wav'\n",
        "output_dir = f'/content/dataset/{voice_name}'\n",
        "\n",
        "min_silence_len = 0.6\n",
        "silence_threshold = 1e-4\n",
        "step_duration = 0.003\n",
        "window_duration = min_silence_len\n",
        "output_path_prefix = os.path.splitext(os.path.basename(input_path))[0]\n",
        "is_dry_run = True\n",
        "\n",
        "print('Splitting {} where energy is below {}% for {}s long.'.format(\n",
        "    voice_path,\n",
        "    silence_threshold * 100.,\n",
        "    window_duration\n",
        "))\n",
        "\n",
        "\n",
        "\n",
        "input_data = wavfile.read(input_path, mmap=True)\n",
        "sample_rate, samples = input_data\n",
        "\n",
        "max_amplitude = np.iinfo(samples.dtype).max\n",
        "max_energy = get_energy([max_amplitude])\n",
        "print(f'Max amplitude: {max_amplitude} Hz')\n",
        "print(f'Max energy   : {max_energy * 100.}%')\n",
        "\n",
        "\n",
        "window_size = int(window_duration * sample_rate)\n",
        "step_size = int(step_duration * sample_rate)\n",
        "signal_windows = get_windows(samples, window_size, step_size)\n",
        "\n",
        "samples_len = len(samples)\n",
        "tqdm_signal_windows = tqdm(signal_windows, total=int(samples_len / float(step_size)))\n",
        "window_energy = (get_energy(w) / max_energy for w in tqdm_signal_windows)\n",
        "\n",
        "window_silence = (e > silence_threshold for e in window_energy)\n",
        "rising_edges = get_rising_edges(window_silence)\n",
        "cut_times = (r * step_duration for r in rising_edges)\n",
        "\n",
        "\n",
        "\n",
        "print('Finding silences...')\n",
        "cut_samples = [int(t * sample_rate) for t in cut_times]\n",
        "cut_samples.append(-1)\n",
        "\n",
        "cut_samples_len = len(cut_samples)\n",
        "cut_ranges = [(i, cut_samples[i], cut_samples[i+1]) for i in range(cut_samples_len - 1)]\n",
        "\n",
        "video_sub = {str(i): [str(get_time(cut_samples[i] / sample_rate)),\n",
        "                      str(get_time(cut_samples[i+1] / sample_rate))]\n",
        "             for i in range(cut_samples_len - 1)}\n",
        "\n",
        "tqdm_cut_ranges = tqdm(cut_ranges)\n",
        "for i, start, stop in tqdm_cut_ranges:\n",
        "    output_path = '{}_{:03d}.wav'.format(os.path.join(output_dir, output_path_prefix), i)\n",
        "\n",
        "    if not is_dry_run:\n",
        "        print(f'Writing file {output_path}')\n",
        "        wavfile.write(output_path, sample_rate, samples[start:stop])\n",
        "    else:\n",
        "        pass\n",
        "\n",
        "with open(f'{output_dir}/{output_path_prefix}.json', 'w') as output:\n",
        "    json.dump(video_sub, output)\n",
        "\n",
        "print('OK')"
      ],
      "metadata": {
        "id": "Q6-Zn0NP6LUs"
      },
      "execution_count": null,
      "outputs": []
    },
    {
      "cell_type": "code",
      "source": [
        "#@title 6. Training preparation\n",
        "\n",
        "import os\n",
        "\n",
        "SOVITS_MODEL_PATH = '/content/drive/MyDrive/so-vits-svc-fork'\n",
        "NEW_SOVITS_MODEL_PATH = f'{SOVITS_MODEL_PATH}/{voice_name}'\n",
        "\n",
        "if not os.path.exists(SOVITS_MODEL_PATH):\n",
        "    !mkdir {SOVITS_MODEL_PATH}\n",
        "\n",
        "if not os.path.exists(NEW_SOVITS_MODEL_PATH):\n",
        "    !mkdir {NEW_SOVITS_MODEL_PATH}\n",
        "\n",
        "f0_method = 'dio' #@param ['crepe', 'crepe-tiny', 'dio', 'harvest', 'parselmouth']\n",
        "\n",
        "!svc pre-resample\n",
        "!svc pre-config\n",
        "!cp configs/44k/config.json {NEW_SOVITS_MODEL_PATH}\n",
        "!svc pre-hubert -fm {f0_method}"
      ],
      "metadata": {
        "id": "RFfbjmuzoGBP"
      },
      "execution_count": null,
      "outputs": []
    },
    {
      "cell_type": "code",
      "source": [
        "#@title 7. Training\n",
        "\n",
        "%load_ext tensorboard\n",
        "%tensorboard --logdir {NEW_SOVITS_MODEL_PATH}/logs/44k\n",
        "!svc train --model-path {NEW_SOVITS_MODEL_PATH}/logs/44k"
      ],
      "metadata": {
        "id": "hsebUqtGpD74"
      },
      "execution_count": null,
      "outputs": []
    }
  ]
}