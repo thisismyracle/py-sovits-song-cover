{
  "nbformat": 4,
  "nbformat_minor": 0,
  "metadata": {
    "colab": {
      "provenance": [],
      "gpuType": "T4",
      "authorship_tag": "ABX9TyPYPjSJc4lhm+mvrSnLqr4D",
      "include_colab_link": true
    },
    "kernelspec": {
      "name": "python3",
      "display_name": "Python 3"
    },
    "language_info": {
      "name": "python"
    },
    "accelerator": "GPU",
    "gpuClass": "standard"
  },
  "cells": [
    {
      "cell_type": "markdown",
      "metadata": {
        "id": "view-in-github",
        "colab_type": "text"
      },
      "source": [
        "<a href=\"https://colab.research.google.com/github/thisismyracle/py-sovits-song-cover/blob/main/SOVITS_Inference.ipynb\" target=\"_parent\"><img src=\"https://colab.research.google.com/assets/colab-badge.svg\" alt=\"Open In Colab\"/></a>"
      ]
    },
    {
      "cell_type": "code",
      "source": [
        "#@title 0. Install dependencies\n",
        "\n",
        "!nvidia-smi\n",
        "\n",
        "!pip install yt_dlp\n",
        "!pip install ffmpeg\n",
        "!python3 -m pip install -U demucs\n",
        "!python -m pip install -U pip wheel\n",
        "!pip install pydub\n",
        "%pip install -U so-vits-svc-fork\n",
        "%pip install -U ipython"
      ],
      "metadata": {
        "id": "aXWaV7U3WcGv"
      },
      "execution_count": null,
      "outputs": []
    },
    {
      "cell_type": "code",
      "execution_count": null,
      "metadata": {
        "id": "kZ9eulFuV4Vi"
      },
      "outputs": [],
      "source": [
        "#@title 1. Mount to Google Drive\n",
        "\n",
        "from google.colab import drive\n",
        "drive.mount('/content/drive')"
      ]
    },
    {
      "cell_type": "code",
      "source": [
        "#@title 2. Initialize\n",
        "\n",
        "def str_escape_space(text: str):\n",
        "    return '_'.join(text.split())\n",
        "\n",
        "BASE_PATH = 'content'\n",
        "YOUTUBE_AUDIO_PATH = 'audio'\n",
        "COVER_ID = 0\n",
        "TEMP_SOVITS_MODEL_PATH = 'sovits_model'\n",
        "\n",
        "try:\n",
        "    !mkdir -p {YOUTUBE_AUDIO_PATH}\n",
        "    !mkdir -p {TEMP_SOVITS_MODEL_PATH}\n",
        "    print('OK')\n",
        "except Exception as e:\n",
        "    print(e)\n"
      ],
      "metadata": {
        "id": "7xKNtkPKZGKE"
      },
      "execution_count": null,
      "outputs": []
    },
    {
      "cell_type": "code",
      "source": [
        "#@title 3. Download Youtube WAV\n",
        "\n",
        "from __future__ import unicode_literals\n",
        "import yt_dlp\n",
        "import ffmpeg\n",
        "import sys\n",
        "\n",
        "song_title = 'haiiro to ao' #@param {type: 'string'}\n",
        "song_title = str_escape_space(song_title)\n",
        "url = 'https://www.youtube.com/watch?v=9nCkUgTO5x4&ab_channel=kobasolo' #@param {type:'string'}\n",
        "\n",
        "ydl_options = {\n",
        "    'format': 'bestaudio/best',\n",
        "    'postprocessors': [\n",
        "        {\n",
        "            'key': 'FFmpegExtractAudio',\n",
        "            'preferredcodec': 'wav'\n",
        "        }\n",
        "    ],\n",
        "    'outtmpl': f'{YOUTUBE_AUDIO_PATH}/{song_title}'\n",
        "}\n",
        "\n",
        "try:\n",
        "    ydl = yt_dlp.YoutubeDL(ydl_options)\n",
        "    ydl.download([url])\n",
        "    print('OK')\n",
        "except Exception as e:\n",
        "    print(e)\n"
      ],
      "metadata": {
        "id": "kAeG9MHIXO_O"
      },
      "execution_count": null,
      "outputs": []
    },
    {
      "cell_type": "code",
      "source": [
        "#@title 4. Separate vocal and instrument\n",
        "\n",
        "import subprocess\n",
        "\n",
        "audio_path = f'/{BASE_PATH}/{YOUTUBE_AUDIO_PATH}/{song_title}.wav'\n",
        "command = f'demucs --two-stems=vocals {audio_path}'\n",
        "result = subprocess.run(command.split(), stdout=subprocess.PIPE)\n",
        "\n",
        "print(result.stdout.decode())"
      ],
      "metadata": {
        "id": "OSuYhcYNeT7W"
      },
      "execution_count": null,
      "outputs": []
    },
    {
      "cell_type": "code",
      "source": [
        "#@title 5a. Inference with pretrained model (download)\n",
        "\n",
        "import os\n",
        "from IPython.display import Audio\n",
        "\n",
        "voice_name = 'alice' #@param {type: 'string'}\n",
        "voice_name = str_escape_space(voice_name)\n",
        "model_pth_url = 'https://huggingface.co/spaces/zomehwh/sovits-models/resolve/main/models/alice/alice.pth' #@param{type: 'string'}\n",
        "model_config_url = 'https://huggingface.co/spaces/zomehwh/sovits-models/resolve/main/models/alice/config.json' #@param{type: 'string'}\n",
        "model_name = model_pth_url.split('/')[-1].split('.')[0]\n",
        "\n",
        "if not (os.path.isfile(f'/{BASE_PATH}/{TEMP_SOVITS_MODEL_PATH}/alice/alice.pth') or os.path.isfile(f'/{BASE_PATH}/{TEMP_SOVITS_MODEL_PATH}/alice/alice.json')):\n",
        "    !wget -N 'https://huggingface.co/spaces/zomehwh/sovits-models/resolve/main/models/alice/alice.pth' -P /{BASE_PATH}/{SOVITS_MODEL_PATH}/{model_name}/\n",
        "    !wget -N 'https://huggingface.co/spaces/zomehwh/sovits-models/resolve/main/models/alice/config.json' -P /{BASE_PATH}/{SOVITS_MODEL_PATH}/{model_name}/\n",
        "\n",
        "audio_path = f'/content/separated/htdemucs/{song_title}/vocals'\n",
        "model_path = f'/{BASE_PATH}/{TEMP_SOVITS_MODEL_PATH}/{model_name}/alice.pth'\n",
        "config_path = f'/{BASE_PATH}/{TEMP_SOVITS_MODEL_PATH}/{model_name}/config.json'\n",
        "pitch = 0 #@param {type: 'integer'}\n",
        "\n",
        "!svc infer {audio_path}.wav -c {config_path} -m {model_path} -na -t {pitch}\n",
        "\n",
        "#@markdown Change according your voice tone and the original singer's tone.\n",
        "\n",
        "#@markdown if your tone are SAME with the original, pitch = 0,\n",
        "\n",
        "#@markdown if your voice are HIGHER than the original, pitch = -12\n",
        "\n",
        "#@markdown if your voice are LOWER than the original, pitch = 12\n"
      ],
      "metadata": {
        "id": "IwbSwdgdTG2C"
      },
      "execution_count": null,
      "outputs": []
    },
    {
      "cell_type": "code",
      "source": [
        "#@title 5b. Inference with your own model (local)\n",
        "\n",
        "import os\n",
        "from IPython.display import Audio\n",
        "\n",
        "voice_name = 'fischl' #@param {type: 'string'}\n",
        "voice_name = str_escape_space(voice_name)\n",
        "audio_path = f'/content/separated/htdemucs/{song_title}/vocals'\n",
        "model_path = '/content/drive/MyDrive/so-vits-svc-fork/fischl/logs/44k/G_100.pth' #@param {type:'string'}\n",
        "config_path = '/content/drive/MyDrive/so-vits-svc-fork/fischl/logs/44k/config.json' #@param {type:'string'}\n",
        "pitch = 0 #@param {type: 'integer'}\n",
        "\n",
        "!svc infer {audio_path}.wav -c {config_path} -m {model_path} -na -t {pitch}\n",
        "\n",
        "#@markdown Change according your voice tone and the original singer's tone.\n",
        "\n",
        "#@markdown if your voice are SAME with the original, pitch = 0,\n",
        "\n",
        "#@markdown if your voice are LOWER than the original, pitch = -12\n",
        "\n",
        "#@markdown if your voice are HIGHER than the original, pitch = 12\n"
      ],
      "metadata": {
        "id": "nbKZS0f21EdP"
      },
      "execution_count": null,
      "outputs": []
    },
    {
      "cell_type": "code",
      "source": [
        "#@title 6. Combine vocal AI with instrument\n",
        "\n",
        "from pydub import AudioSegment\n",
        "\n",
        "COVER_ID += 1\n",
        "\n",
        "vocal_path = f'/content/separated/htdemucs/{song_title}/vocals.out.wav'\n",
        "instrument_path = f'/content/separated/htdemucs/{song_title}/no_vocals.wav'\n",
        "cover_filename = f'/{BASE_PATH}/{voice_name}-{song_title}-' + str(COVER_ID) \n",
        "\n",
        "sound1 = AudioSegment.from_file(vocal_path)\n",
        "sound2 = AudioSegment.from_file(instrument_path)\n",
        "\n",
        "combined = sound1.overlay(sound2)\n",
        "combined.export(f'{cover_filename}.wav', format='wav')"
      ],
      "metadata": {
        "id": "C9OQ5jY6C_9w"
      },
      "execution_count": null,
      "outputs": []
    },
    {
      "cell_type": "code",
      "source": [
        "#@title 7. Convert wav to mp3 (optional)\n",
        "\n",
        "cover_path = f'{cover_filename}.wav'\n",
        "cover_path_mp3 = f'{cover_filename}.mp3'\n",
        "\n",
        "AudioSegment.from_wav(cover_path).export(cover_path_mp3, format='mp3')"
      ],
      "metadata": {
        "id": "9PHHefhR_fXJ"
      },
      "execution_count": null,
      "outputs": []
    }
  ]
}